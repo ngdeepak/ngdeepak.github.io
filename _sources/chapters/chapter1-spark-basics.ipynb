{
 "cells": [
  {
   "cell_type": "markdown",
   "id": "packed-princess",
   "metadata": {},
   "source": [
    "```{figure} ../images/banner.png\n",
    "---\n",
    "align: center\n",
    "name: banner\n",
    "---\n",
    "```"
   ]
  },
  {
   "cell_type": "markdown",
   "id": "exposed-correspondence",
   "metadata": {},
   "source": [
    "# Chapter 1: Spark Basics"
   ]
  },
  {
   "cell_type": "markdown",
   "id": "banned-stranger",
   "metadata": {},
   "source": [
    "## Chapter Outline\n",
    "[1. Introduction](#1.Introduction)"
   ]
  },
  {
   "cell_type": "markdown",
   "id": "offensive-effects",
   "metadata": {},
   "source": [
    "## Chapter Learning Objectives"
   ]
  },
  {
   "cell_type": "markdown",
   "id": "controlling-bottle",
   "metadata": {},
   "source": [
    "- Create, describe and differentiate standard Python datatypes such as `int`, `float`, `string`, `list`, `dict`, `tuple`, etc.\n",
    "- Perform arithmetic operations like `+`, `-`, `*`, `**` on numeric values.\n",
    "- Perform basic string operations like `.lower()`, `.split()` to manipulate strings.\n",
    "- Compute boolean values using comparison operators operations (`==`, `!=`, `>`, etc.) and boolean operators (`and`, `or`, `not`).\n",
    "- Assign, index, slice and subset values to and from tuples, lists, strings and dictionaries.\n",
    "- Write a conditional statement with `if`, `elif` and `else`.\n",
    "- Identify code blocks by levels of indentation.\n",
    "- Explain the difference between mutable objects like a `list` and immutable objects like a `tuple`."
   ]
  },
  {
   "cell_type": "markdown",
   "id": "norwegian-ground",
   "metadata": {},
   "source": [
    "## 1.Introduction\n",
    "<hr>"
   ]
  },
  {
   "cell_type": "code",
   "execution_count": null,
   "id": "indonesian-venezuela",
   "metadata": {},
   "outputs": [],
   "source": [
    "print(\"hello\")"
   ]
  },
  {
   "cell_type": "code",
   "execution_count": null,
   "id": "classified-savannah",
   "metadata": {},
   "outputs": [],
   "source": [
    "print(\"hello\")"
   ]
  },
  {
   "cell_type": "code",
   "execution_count": null,
   "id": "august-jones",
   "metadata": {},
   "outputs": [],
   "source": [
    "print(\"hello\")"
   ]
  },
  {
   "cell_type": "code",
   "execution_count": null,
   "id": "cordless-climb",
   "metadata": {},
   "outputs": [],
   "source": [
    "print(\"hello\")"
   ]
  },
  {
   "cell_type": "code",
   "execution_count": null,
   "id": "editorial-begin",
   "metadata": {},
   "outputs": [],
   "source": []
  }
 ],
 "metadata": {
  "kernelspec": {
   "display_name": "Python 3",
   "language": "python",
   "name": "python3"
  },
  "language_info": {
   "codemirror_mode": {
    "name": "ipython",
    "version": 3
   },
   "file_extension": ".py",
   "mimetype": "text/x-python",
   "name": "python",
   "nbconvert_exporter": "python",
   "pygments_lexer": "ipython3",
   "version": "3.8.5"
  }
 },
 "nbformat": 4,
 "nbformat_minor": 5
}
