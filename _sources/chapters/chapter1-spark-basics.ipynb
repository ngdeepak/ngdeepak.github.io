{
 "cells": [
  {
   "cell_type": "markdown",
   "id": "romantic-bible",
   "metadata": {},
   "source": [
    "```{figure} ../images/banner.png\n",
    "---\n",
    "align: center\n",
    "name: banner\n",
    "---\n",
    "```"
   ]
  },
  {
   "cell_type": "markdown",
   "id": "iraqi-jumping",
   "metadata": {},
   "source": [
    "# Chapter 1: Spark Basics"
   ]
  },
  {
   "cell_type": "markdown",
   "id": "active-capital",
   "metadata": {},
   "source": [
    "## Chapter Outline\n",
    "\n",
    "- [1. What is Apache Spark?](#1)\n",
    "- [2. What is distributed data?](#2)\n",
    "- [3. Overview of Spark Cluster ](#3)"
   ]
  },
  {
   "cell_type": "markdown",
   "id": "structured-mineral",
   "metadata": {},
   "source": [
    "## Chapter Learning Objectives"
   ]
  },
  {
   "cell_type": "markdown",
   "id": "driving-noise",
   "metadata": {},
   "source": [
    "- Understand what Apache Spark is\n",
    "- Understand distributed data vs non-distributed data\n",
    "- How distributed data is stored in spark?\n",
    "- Overview of Spark Cluster\n",
    "- Understand the working of distributed computing "
   ]
  },
  {
   "cell_type": "markdown",
   "id": "sacred-blade",
   "metadata": {},
   "source": [
    "## What is Apache Spark?\n",
    "<a id='1'></a>"
   ]
  },
  {
   "cell_type": "markdown",
   "id": "metropolitan-exposure",
   "metadata": {},
   "source": [
    "Apache Spark is a unified analytics engine for large-scale data processing.\n",
    "It consists of various modules as shown in the diagram below\n",
    "```{figure} img/chapter1/spark_platform.png\n",
    "---\n",
    "align: center\n",
    "name: \n",
    "---\n",
    "```\n",
    "Benefits:\n",
    "- <b>Speed</b> : Run workloads 100x faster.\n",
    "- <b>Ease of Use</b> : Write applications quickly in Java, Scala, Python, R, and SQL.\n",
    "- <b>Generality</b> : Combine SQL, streaming, and complex analytics.\n",
    "- <b>Runs Everywhere</b> : Spark runs on Hadoop, Apache Mesos, Kubernetes, standalone, or in the cloud. It can access diverse data sources\n",
    "\n",
    "```{figure} img/chapter1/spark_runs.png\n",
    "---\n",
    "align: center\n",
    "name: \n",
    "---\n",
    "```\n"
   ]
  },
  {
   "cell_type": "markdown",
   "id": "protecting-repository",
   "metadata": {},
   "source": [
    "## What is distributed data?\n",
    "<a id='2'></a>"
   ]
  },
  {
   "cell_type": "markdown",
   "id": "described-equipment",
   "metadata": {},
   "source": [
    "To answer this question, let us first understand how a non-distributed data look like. Lets us assume that a table consisting of just 3 records is stored on mySQL RDBMS in Linux.\n",
    "\n",
    "```{figure} img/chapter1/non-distributed-data.png\n",
    "---\n",
    "align: center\n",
    "---\n",
    "```\n",
    "\n",
    "Having understood on how normal data is stored, let us look at how the same data is stored in a distributed data environment. Please note that distributed File System is required to store the data in distributed manner. \n",
    "\n",
    "Lets take a moment to understand what a distributed File System is.\n",
    "\n",
    "```{figure} img/chapter1/dist_file_system.png\n",
    "---\n",
    "align: center\n",
    "---\n",
    "```\n",
    "\n",
    "Below is an example of how data is distributed across 3 nodes. In this example, table consisting of 2 columns(Name & Age) and 3 rows are stored across 3 worker nodes .  Each node stores one record.\n",
    "In spark, data operations are mostly carried out directly on a node where data resides instead of getting the data from other nodes. \n",
    "\n",
    "Overview of how data is stored on a spark cluster\n",
    "\n",
    "```{figure} img/chapter1/spark_dist_data.png\n",
    "---\n",
    "align: center\n",
    "---\n",
    "```\n"
   ]
  },
  {
   "cell_type": "code",
   "execution_count": null,
   "id": "awful-running",
   "metadata": {},
   "outputs": [],
   "source": [
    "print(\"hello\")"
   ]
  },
  {
   "cell_type": "code",
   "execution_count": null,
   "id": "grateful-essex",
   "metadata": {},
   "outputs": [],
   "source": []
  }
 ],
 "metadata": {
  "kernelspec": {
   "display_name": "Python 3",
   "language": "python",
   "name": "python3"
  },
  "language_info": {
   "codemirror_mode": {
    "name": "ipython",
    "version": 3
   },
   "file_extension": ".py",
   "mimetype": "text/x-python",
   "name": "python",
   "nbconvert_exporter": "python",
   "pygments_lexer": "ipython3",
   "version": "3.8.5"
  }
 },
 "nbformat": 4,
 "nbformat_minor": 5
}
