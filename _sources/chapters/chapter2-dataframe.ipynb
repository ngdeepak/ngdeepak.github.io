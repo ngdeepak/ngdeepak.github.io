{
 "cells": [
  {
   "cell_type": "markdown",
   "id": "prompt-railway",
   "metadata": {},
   "source": [
    "```{figure} ../images/banner.png\n",
    "---\n",
    "align: center\n",
    "name: banner\n",
    "---\n",
    "```"
   ]
  },
  {
   "cell_type": "markdown",
   "id": "worth-percentage",
   "metadata": {},
   "source": [
    "# Chapter 2 : DataFrames"
   ]
  },
  {
   "cell_type": "markdown",
   "id": "difficult-showcase",
   "metadata": {},
   "source": [
    "## Learning Objectives"
   ]
  },
  {
   "cell_type": "markdown",
   "id": "theoretical-master",
   "metadata": {},
   "source": [
    "- Understand dataframe basics.\n",
    "- Create syntax to create spark dataframe from different data sources.\n",
    "- Basic dataframe operations."
   ]
  },
  {
   "cell_type": "markdown",
   "id": "closed-apache",
   "metadata": {},
   "source": [
    "## Outline\n",
    "\n",
    "- [1. What is spark dataframe](#1)\n",
    "- [2. Creating a spark dataframe](#2)\n",
    "    - [2a. from RDD](#3)\n",
    "    - [2b. from List](#4)\n",
    "    - [2c. from pandas dataframe](#5)\n",
    "- [3. Basic dataframe operations](#6)\n",
    "    - [3a. Selecting columns](#7)\n",
    "    - [3b. Renaming a column](#8)\n",
    "    - [3c. Deleting a column](#9) \n",
    "    - [3d. Renaming a column](#10)\n",
    "    - [3e. Changing the data type of a column](#11)\n",
    "    - [3f. Filtering the data](#12)"
   ]
  },
  {
   "cell_type": "code",
   "execution_count": 66,
   "id": "developed-bouquet",
   "metadata": {
    "hide_input": true,
    "tags": [
     "hide_input"
    ]
   },
   "outputs": [],
   "source": [
    "\n",
    "from IPython.display import display_html\n",
    "import pandas as pd \n",
    "import numpy as np\n",
    "def display_side_by_side(*args):\n",
    "    html_str=''\n",
    "    for df in args:\n",
    "        html_str+=df.to_html(index=False)\n",
    "        html_str+= \"\\xa0\\xa0\\xa0\"*10\n",
    "    display_html(html_str.replace('table','table style=\"display:inline\"'),raw=True)\n",
    "space = \"\\xa0\" * 10"
   ]
  },
  {
   "cell_type": "markdown",
   "id": "informed-engine",
   "metadata": {},
   "source": [
    "## Visual Outline"
   ]
  },
  {
   "cell_type": "markdown",
   "id": "still-emission",
   "metadata": {},
   "source": [
    "click on  | any image\n",
    "---: |:---  \n",
    "[![alt](img/chapter2/1.png)](#3) | [![alt](img/chapter2/2.png)](#4)\n",
    "[![alt](img/chapter2/3.png)](#5) | [![alt](img/chapter2/4.png)](#7)\n",
    "[![alt](img/chapter2/5.png)](#8) | [![alt](img/chapter2/6.png)](#9)\n",
    "[![alt](img/chapter2/7.png)](#10) | [![alt](img/chapter2/8.png)](#11)\n",
    "[![alt](img/chapter2/9.png)](#12) |\n",
    "<hr></hr>"
   ]
  },
  {
   "cell_type": "markdown",
   "id": "prospective-programming",
   "metadata": {},
   "source": [
    "<a id='1'></a>"
   ]
  },
  {
   "cell_type": "markdown",
   "id": "expressed-intent",
   "metadata": {},
   "source": [
    "## 1. What is spark dataframe?\n",
    "A DataFrame simply represents a table of data with rows and columns. A simple analogy would be a spreadsheet with named columns.\n",
    "\n",
    "Spark Data Frame is a distributed collection of data organized into named columns. It can be constructed from a wide array of sources such as: structured data files, tables in Hive, external databases, or existing RDD, Lists, Pandas data frame. \n",
    "\n",
    "- Immutable in nature : We can create DataFrame once but can’t change it. And we can transform a DataFrame after applying transformations.\n",
    "- Lazy Evaluations: This means that a task is not executed until an action is performed.\n",
    "- Distributed: DataFrame is distributed in nature.\n",
    "\n",
    "All transformations in Spark are lazy, in that they do not compute their results right away. Instead, they just remember the transformations applied to some base dataset (e.g. a file). The transformations are only computed when an action requires a result to be returned to the driver program. This design enables Spark to run more efficiently.\n",
    "\n",
    "\n",
    "Advantages of lazy evaluation.\n",
    "\n",
    "- It is an optimization technique i.e. it provides optimization by reducing the number of queries.\n",
    "\n",
    "- It saves the round trips between driver and cluster, thus speeds up the process. \n",
    "- Saves Computation and increases Speed\n",
    " \n",
    "### Why DataFrames are Useful ?\n",
    "\n",
    "- DataFrames are designed for processing large collection of structured or semi-structured data.\n",
    "Observations in Spark DataFrame are organised under named columns, which helps Apache Spark to understand the schema of a DataFrame. This helps Spark optimize execution plan on these queries.\n",
    "- DataFrame in Apache Spark has the ability to handle petabytes of data.\n",
    "- DataFrame has a support for wide range of data format and sources.\n",
    "```{figure} img/chapter2/0.png\n",
    "---\n",
    "align: center\n",
    "---\n",
    "```\n",
    "\n",
    "All transformations in Spark are lazy, in that they do not compute their results right away. Instead, they just remember the transformations applied to some base dataset (e.g. a file). The transformations are only computed when an action requires a result to be returned to the driver program. This design enables Spark to run more efficiently.\n",
    "\n",
    "\n",
    "Advantages of lazy evaluation.\n",
    "\n",
    "- It is an optimization technique i.e. it provides optimization by reducing the number of queries.\n",
    "\n",
    "- It saves the round trips between driver and cluster, thus speeds up the process. \n",
    "- Saves Computation and increases Speed\n",
    "\n",
    "```{figure} img/chapter2/0_1.png\n",
    "---\n",
    "align: center\n",
    "---\n",
    "```\n"
   ]
  },
  {
   "cell_type": "markdown",
   "id": "suffering-paraguay",
   "metadata": {},
   "source": [
    "<a id='2'></a>"
   ]
  },
  {
   "cell_type": "markdown",
   "id": "excellent-tension",
   "metadata": {},
   "source": [
    "##  2. Creating a spark dataframe \n",
    "\n",
    "Lets first understand the syntax\n",
    "\n",
    "```{admonition} Syntax\n",
    "<b>createDataFrame(data, schema=None, samplingRatio=None, verifySchema=True)</b>\n",
    "\n",
    "<b>Parameters</b>:\n",
    "\n",
    "data – RDD,list, or pandas.DataFrame.\n",
    "\n",
    "schema – a pyspark.sql.types.DataType or a datatype string or a list of column names, default is None. \n",
    "\n",
    "samplingRatio – the sample ratio of rows used for inferring\n",
    "\n",
    "verifySchema – verify data types of every row against schema.\n",
    "```"
   ]
  },
  {
   "cell_type": "markdown",
   "id": "encouraging-parent",
   "metadata": {},
   "source": [
    "<a id='3'></a>"
   ]
  },
  {
   "cell_type": "markdown",
   "id": "pediatric-integration",
   "metadata": {},
   "source": [
    "### 2a. from RDD\n",
    "\n",
    "\n",
    "```{figure} img/chapter2/1.png\n",
    "---\n",
    "align: center\n",
    "---\n",
    "```\n",
    "\n",
    "<b>What is RDD?</b>\n",
    "\n",
    "Resilient Distributed Datasets (RDDs)\n",
    "\n",
    "At a high level, every Spark application consists of a driver program that runs the user’s main function and executes various parallel operations on a cluster. \n",
    "\n",
    "The main abstraction Spark provides is a resilient distributed dataset (RDD), which is a collection of elements partitioned across the nodes of the cluster that can be operated on in parallel. \n",
    "\n",
    "RDDs are created by starting with a file in the Hadoop file system (or any other Hadoop-supported file system), or an existing Scala collection in the driver program, and transforming it. \n",
    "\n",
    "Users may also ask Spark to persist an RDD in memory, allowing it to be reused efficiently across parallel operations. Finally, RDDs automatically recover from node failures.\n",
    "\n",
    "<b>How to create RDD?</b>"
   ]
  },
  {
   "cell_type": "code",
   "execution_count": 67,
   "id": "sharp-plastic",
   "metadata": {},
   "outputs": [],
   "source": [
    "import pyspark\n",
    "from pyspark.sql import SparkSession\n",
    "spark = SparkSession \\\n",
    "    .builder \\\n",
    "    .appName(\"Python Spark SQL basic example\") \\\n",
    "    .config(\"spark.some.config.option\", \"some-value\") \\\n",
    "    .getOrCreate()\n",
    "rdd_spark = spark.sparkContext.parallelize([('John', 'Seattle', 60, True, 1.7, '1960-01-01'),\n",
    " ('Tony', 'Cupertino', 30, False, 1.8, '1990-01-01'),\n",
    " ('Mike', 'New York', 40, True, 1.65, '1980-01-01')]).collect()\n"
   ]
  },
  {
   "cell_type": "code",
   "execution_count": 68,
   "id": "nuclear-level",
   "metadata": {},
   "outputs": [
    {
     "name": "stdout",
     "output_type": "stream",
     "text": [
      "[('John', 'Seattle', 60, True, 1.7, '1960-01-01'), ('Tony', 'Cupertino', 30, False, 1.8, '1990-01-01'), ('Mike', 'New York', 40, True, 1.65, '1980-01-01')]\n"
     ]
    }
   ],
   "source": [
    "print(rdd_spark)"
   ]
  },
  {
   "cell_type": "code",
   "execution_count": 69,
   "id": "separate-pressure",
   "metadata": {},
   "outputs": [
    {
     "data": {
      "text/html": [
       "<div>\n",
       "<style scoped>\n",
       "    .dataframe tbody tr th:only-of-type {\n",
       "        vertical-align: middle;\n",
       "    }\n",
       "\n",
       "    .dataframe tbody tr th {\n",
       "        vertical-align: top;\n",
       "    }\n",
       "\n",
       "    .dataframe thead th {\n",
       "        text-align: right;\n",
       "    }\n",
       "</style>\n",
       "<table border=\"1\" class=\"dataframe\">\n",
       "  <thead>\n",
       "    <tr style=\"text-align: right;\">\n",
       "      <th></th>\n",
       "      <th>0</th>\n",
       "    </tr>\n",
       "  </thead>\n",
       "  <tbody>\n",
       "    <tr>\n",
       "      <th>0</th>\n",
       "      <td>[(John, Seattle, 60, True, 1.7, 1960...</td>\n",
       "    </tr>\n",
       "  </tbody>\n",
       "</table>\n",
       "</div>"
      ],
      "text/plain": [
       "                                         0\n",
       "0  [(John, Seattle, 60, True, 1.7, 1960..."
      ]
     },
     "execution_count": 69,
     "metadata": {},
     "output_type": "execute_result"
    }
   ],
   "source": [
    "pd.set_option('display.max_colwidth', 40)\n",
    "pd.DataFrame([[rdd_spark]])"
   ]
  },
  {
   "cell_type": "markdown",
   "id": "wooden-cooler",
   "metadata": {},
   "source": [
    "<b>Creating a spark dataframe from RDD:</b>"
   ]
  },
  {
   "cell_type": "code",
   "execution_count": 70,
   "id": "rotary-maryland",
   "metadata": {},
   "outputs": [
    {
     "name": "stdout",
     "output_type": "stream",
     "text": [
      "+----+---------+---+-----+----+----------+\n",
      "|  _1|       _2| _3|   _4|  _5|        _6|\n",
      "+----+---------+---+-----+----+----------+\n",
      "|John|  Seattle| 60| true| 1.7|1960-01-01|\n",
      "|Tony|Cupertino| 30|false| 1.8|1990-01-01|\n",
      "|Mike| New York| 40| true|1.65|1980-01-01|\n",
      "+----+---------+---+-----+----+----------+\n",
      "\n"
     ]
    }
   ],
   "source": [
    "df = spark.createDataFrame(rdd_spark)\n",
    "df.show()"
   ]
  },
  {
   "cell_type": "code",
   "execution_count": 71,
   "id": "disturbed-nothing",
   "metadata": {},
   "outputs": [
    {
     "name": "stdout",
     "output_type": "stream",
     "text": [
      "Input                                                Output\n"
     ]
    },
    {
     "data": {
      "text/html": [
       "<table style=\"display:inline\" border=\"1\" class=\"dataframe\">\n",
       "  <thead>\n",
       "    <tr style=\"text-align: right;\">\n",
       "      <th>0</th>\n",
       "    </tr>\n",
       "  </thead>\n",
       "  <tbody>\n",
       "    <tr>\n",
       "      <td>[(John, Seattle, 60, True, 1.7, 1960-01-01), (Tony, Cupertino, 30, False, 1.8, 1990-01-01), (Mike, New York, 40, True, 1.65, 1980-01-01)]</td>\n",
       "    </tr>\n",
       "  </tbody>\n",
       "</table style=\"display:inline\">                              <table style=\"display:inline\" border=\"1\" class=\"dataframe\">\n",
       "  <thead>\n",
       "    <tr style=\"text-align: right;\">\n",
       "      <th>_1</th>\n",
       "      <th>_2</th>\n",
       "      <th>_3</th>\n",
       "      <th>_4</th>\n",
       "      <th>_5</th>\n",
       "      <th>_6</th>\n",
       "    </tr>\n",
       "  </thead>\n",
       "  <tbody>\n",
       "    <tr>\n",
       "      <td>John</td>\n",
       "      <td>Seattle</td>\n",
       "      <td>60</td>\n",
       "      <td>True</td>\n",
       "      <td>1.70</td>\n",
       "      <td>1960-01-01</td>\n",
       "    </tr>\n",
       "    <tr>\n",
       "      <td>Tony</td>\n",
       "      <td>Cupertino</td>\n",
       "      <td>30</td>\n",
       "      <td>False</td>\n",
       "      <td>1.80</td>\n",
       "      <td>1990-01-01</td>\n",
       "    </tr>\n",
       "    <tr>\n",
       "      <td>Mike</td>\n",
       "      <td>New York</td>\n",
       "      <td>40</td>\n",
       "      <td>True</td>\n",
       "      <td>1.65</td>\n",
       "      <td>1980-01-01</td>\n",
       "    </tr>\n",
       "  </tbody>\n",
       "</table style=\"display:inline\">                              "
      ]
     },
     "metadata": {},
     "output_type": "display_data"
    }
   ],
   "source": [
    "pd.set_option('display.max_colwidth', 20)\n",
    "print(\"Input                                               \",            \"Output\")\n",
    "display_side_by_side(pd.DataFrame([[rdd_spark]]),df.toPandas())"
   ]
  },
  {
   "cell_type": "markdown",
   "id": "bigger-panic",
   "metadata": {},
   "source": [
    "<a id='4'></a>"
   ]
  },
  {
   "cell_type": "markdown",
   "id": "liked-hormone",
   "metadata": {},
   "source": [
    "### 2b. from List"
   ]
  },
  {
   "cell_type": "markdown",
   "id": "cultural-invalid",
   "metadata": {},
   "source": [
    "\n",
    "```{figure} img/chapter2/2.png\n",
    "---\n",
    "align: center\n",
    "---\n",
    "```"
   ]
  },
  {
   "cell_type": "code",
   "execution_count": 72,
   "id": "chronic-peninsula",
   "metadata": {},
   "outputs": [
    {
     "name": "stdout",
     "output_type": "stream",
     "text": [
      "+----+---------+---+-----+----+----------+\n",
      "|  _1|       _2| _3|   _4|  _5|        _6|\n",
      "+----+---------+---+-----+----+----------+\n",
      "|John|  Seattle| 60| true| 1.7|1960-01-01|\n",
      "|Tony|Cupertino| 30|false| 1.8|1990-01-01|\n",
      "|Mike| New York| 40| true|1.65|1980-01-01|\n",
      "+----+---------+---+-----+----+----------+\n",
      "\n"
     ]
    }
   ],
   "source": [
    "alist = [('John', 'Seattle', 60, True, 1.7, '1960-01-01'), \n",
    "('Tony', 'Cupertino', 30, False, 1.8, '1990-01-01'), \n",
    "('Mike', 'New York', 40, True, 1.65, '1980-01-01')]\n",
    "spark.createDataFrame(alist).show()"
   ]
  },
  {
   "cell_type": "markdown",
   "id": "binary-mortgage",
   "metadata": {},
   "source": [
    "<a id='5'></a>"
   ]
  },
  {
   "cell_type": "markdown",
   "id": "suspended-rotation",
   "metadata": {},
   "source": [
    "### 2c. from pandas dataframe"
   ]
  },
  {
   "cell_type": "markdown",
   "id": "personalized-startup",
   "metadata": {},
   "source": [
    "\n",
    "```{figure} img/chapter2/3.png\n",
    "---\n",
    "align: center\n",
    "---\n",
    "```"
   ]
  },
  {
   "cell_type": "markdown",
   "id": "applicable-quality",
   "metadata": {},
   "source": [
    "<b>How to create pandas dataframe?</b>"
   ]
  },
  {
   "cell_type": "code",
   "execution_count": 73,
   "id": "growing-landing",
   "metadata": {},
   "outputs": [
    {
     "data": {
      "text/html": [
       "<div>\n",
       "<style scoped>\n",
       "    .dataframe tbody tr th:only-of-type {\n",
       "        vertical-align: middle;\n",
       "    }\n",
       "\n",
       "    .dataframe tbody tr th {\n",
       "        vertical-align: top;\n",
       "    }\n",
       "\n",
       "    .dataframe thead th {\n",
       "        text-align: right;\n",
       "    }\n",
       "</style>\n",
       "<table border=\"1\" class=\"dataframe\">\n",
       "  <thead>\n",
       "    <tr style=\"text-align: right;\">\n",
       "      <th></th>\n",
       "      <th>name</th>\n",
       "      <th>city</th>\n",
       "      <th>age</th>\n",
       "      <th>smoker</th>\n",
       "      <th>height</th>\n",
       "      <th>birthdate</th>\n",
       "    </tr>\n",
       "  </thead>\n",
       "  <tbody>\n",
       "    <tr>\n",
       "      <th>0</th>\n",
       "      <td>John</td>\n",
       "      <td>Seattle</td>\n",
       "      <td>60</td>\n",
       "      <td>True</td>\n",
       "      <td>1.70</td>\n",
       "      <td>1960-01-01</td>\n",
       "    </tr>\n",
       "    <tr>\n",
       "      <th>1</th>\n",
       "      <td>Tony</td>\n",
       "      <td>Cupertino</td>\n",
       "      <td>30</td>\n",
       "      <td>False</td>\n",
       "      <td>1.80</td>\n",
       "      <td>1990-01-01</td>\n",
       "    </tr>\n",
       "    <tr>\n",
       "      <th>2</th>\n",
       "      <td>Mike</td>\n",
       "      <td>New York</td>\n",
       "      <td>40</td>\n",
       "      <td>True</td>\n",
       "      <td>1.65</td>\n",
       "      <td>1980-01-01</td>\n",
       "    </tr>\n",
       "  </tbody>\n",
       "</table>\n",
       "</div>"
      ],
      "text/plain": [
       "   name       city  age  smoker  height   birthdate\n",
       "0  John    Seattle   60    True    1.70  1960-01-01\n",
       "1  Tony  Cupertino   30   False    1.80  1990-01-01\n",
       "2  Mike   New York   40    True    1.65  1980-01-01"
      ]
     },
     "execution_count": 73,
     "metadata": {},
     "output_type": "execute_result"
    }
   ],
   "source": [
    "import pandas as pd\n",
    "df_pd = pd.DataFrame([('John', 'Seattle', 60, True, 1.7, '1960-01-01'), \n",
    "('Tony', 'Cupertino', 30, False, 1.8, '1990-01-01'), \n",
    "('Mike', 'New York', 40, True, 1.65, '1980-01-01')],columns=[\"name\",\"city\",\"age\",\"smoker\",\"height\", \"birthdate\"])\n",
    "df_pd"
   ]
  },
  {
   "cell_type": "markdown",
   "id": "confidential-supply",
   "metadata": {},
   "source": [
    "<b>How to create spark dataframe from pandas dataframe</b>"
   ]
  },
  {
   "cell_type": "code",
   "execution_count": 74,
   "id": "sorted-desire",
   "metadata": {},
   "outputs": [
    {
     "name": "stdout",
     "output_type": "stream",
     "text": [
      "+----+---------+---+------+------+----------+\n",
      "|name|     city|age|smoker|height| birthdate|\n",
      "+----+---------+---+------+------+----------+\n",
      "|John|  Seattle| 60|  true|   1.7|1960-01-01|\n",
      "|Tony|Cupertino| 30| false|   1.8|1990-01-01|\n",
      "|Mike| New York| 40|  true|  1.65|1980-01-01|\n",
      "+----+---------+---+------+------+----------+\n",
      "\n"
     ]
    }
   ],
   "source": [
    "spark.createDataFrame(df_pd).show()"
   ]
  },
  {
   "cell_type": "markdown",
   "id": "catholic-secret",
   "metadata": {},
   "source": [
    "<a id='6'></a>"
   ]
  },
  {
   "cell_type": "markdown",
   "id": "growing-expansion",
   "metadata": {},
   "source": [
    "##  3. Basic data frame operations"
   ]
  },
  {
   "cell_type": "markdown",
   "id": "large-conditions",
   "metadata": {},
   "source": [
    "<a id='6'></a>"
   ]
  },
  {
   "cell_type": "markdown",
   "id": "quarterly-membrane",
   "metadata": {},
   "source": [
    "<a id='7'></a>"
   ]
  },
  {
   "cell_type": "markdown",
   "id": "declared-tribe",
   "metadata": {},
   "source": [
    "### 3a. How to select columns?"
   ]
  },
  {
   "cell_type": "markdown",
   "id": "civic-march",
   "metadata": {},
   "source": [
    "\n",
    "```{figure} img/chapter2/4.png\n",
    "---\n",
    "align: center\n",
    "---\n",
    "```"
   ]
  },
  {
   "cell_type": "markdown",
   "id": "judicial-petroleum",
   "metadata": {},
   "source": [
    "<b>Input: Spark dataframe</b>"
   ]
  },
  {
   "cell_type": "code",
   "execution_count": 75,
   "id": "forbidden-enterprise",
   "metadata": {},
   "outputs": [
    {
     "name": "stdout",
     "output_type": "stream",
     "text": [
      "+----+---------+---+------+------+----------+\n",
      "|name|     city|age|smoker|height| birthdate|\n",
      "+----+---------+---+------+------+----------+\n",
      "|John|  Seattle| 60|  true|   1.7|1960-01-01|\n",
      "|Tony|Cupertino| 30| false|   1.8|1990-01-01|\n",
      "|Mike| New York| 40|  true|  1.65|1980-01-01|\n",
      "+----+---------+---+------+------+----------+\n",
      "\n"
     ]
    }
   ],
   "source": [
    "df = spark.createDataFrame([('John', 'Seattle', 60, True, 1.7, '1960-01-01'), \n",
    "('Tony', 'Cupertino', 30, False, 1.8, '1990-01-01'), \n",
    "('Mike', 'New York', 40, True, 1.65, '1980-01-01')],['name', 'city', 'age', 'smoker','height', 'birthdate'])\n",
    "df.show()"
   ]
  },
  {
   "cell_type": "markdown",
   "id": "charged-league",
   "metadata": {},
   "source": [
    "<b>Output: spark dataframe with selected columns</b>"
   ]
  },
  {
   "cell_type": "markdown",
   "id": "stopped-arkansas",
   "metadata": {},
   "source": [
    " Method#1"
   ]
  },
  {
   "cell_type": "code",
   "execution_count": 76,
   "id": "third-donna",
   "metadata": {},
   "outputs": [
    {
     "name": "stdout",
     "output_type": "stream",
     "text": [
      "+----+---------+---+\n",
      "|name|     city|age|\n",
      "+----+---------+---+\n",
      "|John|  Seattle| 60|\n",
      "|Tony|Cupertino| 30|\n",
      "|Mike| New York| 40|\n",
      "+----+---------+---+\n",
      "\n"
     ]
    }
   ],
   "source": [
    "df_out = df.select(\"name\",\"city\",\"age\")\n",
    "df_out.show()"
   ]
  },
  {
   "cell_type": "markdown",
   "id": "premium-saturn",
   "metadata": {},
   "source": [
    " Method#2"
   ]
  },
  {
   "cell_type": "code",
   "execution_count": 77,
   "id": "facial-punch",
   "metadata": {},
   "outputs": [
    {
     "name": "stdout",
     "output_type": "stream",
     "text": [
      "+----+---------+---+\n",
      "|name|     city|age|\n",
      "+----+---------+---+\n",
      "|John|  Seattle| 60|\n",
      "|Tony|Cupertino| 30|\n",
      "|Mike| New York| 40|\n",
      "+----+---------+---+\n",
      "\n"
     ]
    }
   ],
   "source": [
    "df.select(df.name,df.city,df.age).show()"
   ]
  },
  {
   "cell_type": "markdown",
   "id": "ruled-farming",
   "metadata": {},
   "source": [
    " Method#3"
   ]
  },
  {
   "cell_type": "code",
   "execution_count": 78,
   "id": "convertible-checkout",
   "metadata": {},
   "outputs": [
    {
     "name": "stdout",
     "output_type": "stream",
     "text": [
      "+----+---------+---+\n",
      "|name|     city|age|\n",
      "+----+---------+---+\n",
      "|John|  Seattle| 60|\n",
      "|Tony|Cupertino| 30|\n",
      "|Mike| New York| 40|\n",
      "+----+---------+---+\n",
      "\n"
     ]
    }
   ],
   "source": [
    "from pyspark.sql.functions import col\n",
    "df.select(col(\"name\"),col(\"city\"),col(\"age\")).show()"
   ]
  },
  {
   "cell_type": "markdown",
   "id": "filled-split",
   "metadata": {},
   "source": [
    "<b> Summary</b>"
   ]
  },
  {
   "cell_type": "code",
   "execution_count": 79,
   "id": "official-saturn",
   "metadata": {},
   "outputs": [
    {
     "name": "stdout",
     "output_type": "stream",
     "text": [
      "Input                                                Output\n"
     ]
    },
    {
     "data": {
      "text/html": [
       "<table style=\"display:inline\" border=\"1\" class=\"dataframe\">\n",
       "  <thead>\n",
       "    <tr style=\"text-align: right;\">\n",
       "      <th>name</th>\n",
       "      <th>city</th>\n",
       "      <th>age</th>\n",
       "      <th>smoker</th>\n",
       "      <th>height</th>\n",
       "      <th>birthdate</th>\n",
       "    </tr>\n",
       "  </thead>\n",
       "  <tbody>\n",
       "    <tr>\n",
       "      <td>John</td>\n",
       "      <td>Seattle</td>\n",
       "      <td>60</td>\n",
       "      <td>True</td>\n",
       "      <td>1.70</td>\n",
       "      <td>1960-01-01</td>\n",
       "    </tr>\n",
       "    <tr>\n",
       "      <td>Tony</td>\n",
       "      <td>Cupertino</td>\n",
       "      <td>30</td>\n",
       "      <td>False</td>\n",
       "      <td>1.80</td>\n",
       "      <td>1990-01-01</td>\n",
       "    </tr>\n",
       "    <tr>\n",
       "      <td>Mike</td>\n",
       "      <td>New York</td>\n",
       "      <td>40</td>\n",
       "      <td>True</td>\n",
       "      <td>1.65</td>\n",
       "      <td>1980-01-01</td>\n",
       "    </tr>\n",
       "  </tbody>\n",
       "</table style=\"display:inline\">                              <table style=\"display:inline\" border=\"1\" class=\"dataframe\">\n",
       "  <thead>\n",
       "    <tr style=\"text-align: right;\">\n",
       "      <th>name</th>\n",
       "      <th>city</th>\n",
       "      <th>age</th>\n",
       "    </tr>\n",
       "  </thead>\n",
       "  <tbody>\n",
       "    <tr>\n",
       "      <td>John</td>\n",
       "      <td>Seattle</td>\n",
       "      <td>60</td>\n",
       "    </tr>\n",
       "    <tr>\n",
       "      <td>Tony</td>\n",
       "      <td>Cupertino</td>\n",
       "      <td>30</td>\n",
       "    </tr>\n",
       "    <tr>\n",
       "      <td>Mike</td>\n",
       "      <td>New York</td>\n",
       "      <td>40</td>\n",
       "    </tr>\n",
       "  </tbody>\n",
       "</table style=\"display:inline\">                              "
      ]
     },
     "metadata": {},
     "output_type": "display_data"
    }
   ],
   "source": [
    "print(\"Input                                               \",            \"Output\")\n",
    "display_side_by_side(df.toPandas(),df_out.toPandas())"
   ]
  },
  {
   "cell_type": "markdown",
   "id": "chemical-auditor",
   "metadata": {},
   "source": [
    "<a id='8'></a>"
   ]
  },
  {
   "cell_type": "markdown",
   "id": "changed-letter",
   "metadata": {},
   "source": [
    "### 3b. How to rename columns?"
   ]
  },
  {
   "cell_type": "markdown",
   "id": "spatial-psychiatry",
   "metadata": {},
   "source": [
    "\n",
    "```{figure} img/chapter2/5.png\n",
    "---\n",
    "align: center\n",
    "---\n",
    "```"
   ]
  },
  {
   "cell_type": "markdown",
   "id": "educational-terror",
   "metadata": {},
   "source": [
    "<b>Input: Spark dataframe with one of the column \"age\"</b>"
   ]
  },
  {
   "cell_type": "code",
   "execution_count": 80,
   "id": "hollywood-customs",
   "metadata": {},
   "outputs": [
    {
     "name": "stdout",
     "output_type": "stream",
     "text": [
      "+----+---------+---+------+------+----------+\n",
      "|name|     city|age|smoker|height| birthdate|\n",
      "+----+---------+---+------+------+----------+\n",
      "|John|  Seattle| 60|  true|   1.7|1960-01-01|\n",
      "|Tony|Cupertino| 30| false|   1.8|1990-01-01|\n",
      "|Mike| New York| 40|  true|  1.65|1980-01-01|\n",
      "+----+---------+---+------+------+----------+\n",
      "\n"
     ]
    }
   ],
   "source": [
    "df = spark.createDataFrame([('John', 'Seattle', 60, True, 1.7, '1960-01-01'), \n",
    "('Tony', 'Cupertino', 30, False, 1.8, '1990-01-01'), \n",
    "('Mike', 'New York', 40, True, 1.65, '1980-01-01')],['name', 'city', 'age', 'smoker','height', 'birthdate'])\n",
    "df.show()"
   ]
  },
  {
   "cell_type": "markdown",
   "id": "together-internet",
   "metadata": {},
   "source": [
    "<b>Output: spark dataframe with column \"age\" renamed to \"age_in_years\"</b>"
   ]
  },
  {
   "cell_type": "code",
   "execution_count": 81,
   "id": "sufficient-corner",
   "metadata": {},
   "outputs": [
    {
     "name": "stdout",
     "output_type": "stream",
     "text": [
      "+---------+---------+------------+\n",
      "|firstname|birthcity|age_in_years|\n",
      "+---------+---------+------------+\n",
      "|     John|  Seattle|          60|\n",
      "|     Tony|Cupertino|          30|\n",
      "|     Mike| New York|          40|\n",
      "+---------+---------+------------+\n",
      "\n"
     ]
    }
   ],
   "source": [
    "df.select(col(\"name\").alias(\"firstname\"),df.city.alias(\"birthcity\"),df.age.alias(\"age_in_years\")).show()"
   ]
  },
  {
   "cell_type": "code",
   "execution_count": 82,
   "id": "smooth-hypothetical",
   "metadata": {},
   "outputs": [
    {
     "name": "stdout",
     "output_type": "stream",
     "text": [
      "+----+---------+------------+------+------+----------+\n",
      "|name|     city|age_in_years|smoker|height| birthdate|\n",
      "+----+---------+------------+------+------+----------+\n",
      "|John|  Seattle|          60|  true|   1.7|1960-01-01|\n",
      "|Tony|Cupertino|          30| false|   1.8|1990-01-01|\n",
      "|Mike| New York|          40|  true|  1.65|1980-01-01|\n",
      "+----+---------+------------+------+------+----------+\n",
      "\n"
     ]
    }
   ],
   "source": [
    "df_rename = df.withColumnRenamed(\"age\",\"age_in_years\")\n",
    "df_rename.show()"
   ]
  },
  {
   "cell_type": "code",
   "execution_count": 83,
   "id": "brief-torture",
   "metadata": {},
   "outputs": [
    {
     "name": "stdout",
     "output_type": "stream",
     "text": [
      "Input                                                Output\n"
     ]
    },
    {
     "data": {
      "text/html": [
       "<table style=\"display:inline\" border=\"1\" class=\"dataframe\">\n",
       "  <thead>\n",
       "    <tr style=\"text-align: right;\">\n",
       "      <th>name</th>\n",
       "      <th>city</th>\n",
       "      <th>age</th>\n",
       "      <th>smoker</th>\n",
       "      <th>height</th>\n",
       "      <th>birthdate</th>\n",
       "    </tr>\n",
       "  </thead>\n",
       "  <tbody>\n",
       "    <tr>\n",
       "      <td>John</td>\n",
       "      <td>Seattle</td>\n",
       "      <td>60</td>\n",
       "      <td>True</td>\n",
       "      <td>1.70</td>\n",
       "      <td>1960-01-01</td>\n",
       "    </tr>\n",
       "    <tr>\n",
       "      <td>Tony</td>\n",
       "      <td>Cupertino</td>\n",
       "      <td>30</td>\n",
       "      <td>False</td>\n",
       "      <td>1.80</td>\n",
       "      <td>1990-01-01</td>\n",
       "    </tr>\n",
       "    <tr>\n",
       "      <td>Mike</td>\n",
       "      <td>New York</td>\n",
       "      <td>40</td>\n",
       "      <td>True</td>\n",
       "      <td>1.65</td>\n",
       "      <td>1980-01-01</td>\n",
       "    </tr>\n",
       "  </tbody>\n",
       "</table style=\"display:inline\">                              <table style=\"display:inline\" border=\"1\" class=\"dataframe\">\n",
       "  <thead>\n",
       "    <tr style=\"text-align: right;\">\n",
       "      <th>name</th>\n",
       "      <th>city</th>\n",
       "      <th>age_in_years</th>\n",
       "      <th>smoker</th>\n",
       "      <th>height</th>\n",
       "      <th>birthdate</th>\n",
       "    </tr>\n",
       "  </thead>\n",
       "  <tbody>\n",
       "    <tr>\n",
       "      <td>John</td>\n",
       "      <td>Seattle</td>\n",
       "      <td>60</td>\n",
       "      <td>True</td>\n",
       "      <td>1.70</td>\n",
       "      <td>1960-01-01</td>\n",
       "    </tr>\n",
       "    <tr>\n",
       "      <td>Tony</td>\n",
       "      <td>Cupertino</td>\n",
       "      <td>30</td>\n",
       "      <td>False</td>\n",
       "      <td>1.80</td>\n",
       "      <td>1990-01-01</td>\n",
       "    </tr>\n",
       "    <tr>\n",
       "      <td>Mike</td>\n",
       "      <td>New York</td>\n",
       "      <td>40</td>\n",
       "      <td>True</td>\n",
       "      <td>1.65</td>\n",
       "      <td>1980-01-01</td>\n",
       "    </tr>\n",
       "  </tbody>\n",
       "</table style=\"display:inline\">                              "
      ]
     },
     "metadata": {},
     "output_type": "display_data"
    }
   ],
   "source": [
    "print(\"Input                                               \",            \"Output\")\n",
    "display_side_by_side(df.toPandas(),df_rename.toPandas())"
   ]
  },
  {
   "cell_type": "markdown",
   "id": "insured-basic",
   "metadata": {},
   "source": [
    "<a id='9'></a>"
   ]
  },
  {
   "cell_type": "markdown",
   "id": "parallel-cherry",
   "metadata": {},
   "source": [
    "### 3c. How to add new columns?"
   ]
  },
  {
   "cell_type": "markdown",
   "id": "fatal-lexington",
   "metadata": {},
   "source": [
    "\n",
    "```{figure} img/chapter2/6.png\n",
    "---\n",
    "align: center\n",
    "---\n",
    "```"
   ]
  },
  {
   "cell_type": "markdown",
   "id": "extensive-distinction",
   "metadata": {},
   "source": [
    "<b>Input: Spark dataframe</b>"
   ]
  },
  {
   "cell_type": "code",
   "execution_count": 84,
   "id": "architectural-management",
   "metadata": {},
   "outputs": [
    {
     "name": "stdout",
     "output_type": "stream",
     "text": [
      "+----+---------+---+------+------+----------+\n",
      "|name|     city|age|smoker|height| birthdate|\n",
      "+----+---------+---+------+------+----------+\n",
      "|John|  Seattle| 60|  true|   1.7|1960-01-01|\n",
      "|Tony|Cupertino| 30| false|   1.8|1990-01-01|\n",
      "|Mike| New York| 40|  true|  1.65|1980-01-01|\n",
      "+----+---------+---+------+------+----------+\n",
      "\n"
     ]
    }
   ],
   "source": [
    "df = spark.createDataFrame([('John', 'Seattle', 60, True, 1.7, '1960-01-01'), \n",
    "('Tony', 'Cupertino', 30, False, 1.8, '1990-01-01'), \n",
    "('Mike', 'New York', 40, True, 1.65, '1980-01-01')],['name', 'city', 'age', 'smoker','height', 'birthdate'])\n",
    "df.show()"
   ]
  },
  {
   "cell_type": "markdown",
   "id": "driven-jesus",
   "metadata": {},
   "source": [
    "<b>Output: spark dataframe with a new column added</b>"
   ]
  },
  {
   "cell_type": "markdown",
   "id": "secondary-business",
   "metadata": {},
   "source": [
    "Method#1"
   ]
  },
  {
   "cell_type": "code",
   "execution_count": 85,
   "id": "affected-publication",
   "metadata": {},
   "outputs": [
    {
     "name": "stdout",
     "output_type": "stream",
     "text": [
      "+----+---------+---+------+------+----------+-------------+\n",
      "|name|     city|age|smoker|height| birthdate|ageplusheight|\n",
      "+----+---------+---+------+------+----------+-------------+\n",
      "|John|  Seattle| 60|  true|   1.7|1960-01-01|         61.7|\n",
      "|Tony|Cupertino| 30| false|   1.8|1990-01-01|         31.8|\n",
      "|Mike| New York| 40|  true|  1.65|1980-01-01|        41.65|\n",
      "+----+---------+---+------+------+----------+-------------+\n",
      "\n"
     ]
    }
   ],
   "source": [
    "df.withColumn(\"ageplusheight\", df.age+df.height).show()"
   ]
  },
  {
   "cell_type": "markdown",
   "id": "contrary-canyon",
   "metadata": {},
   "source": [
    "Method#2"
   ]
  },
  {
   "cell_type": "code",
   "execution_count": 86,
   "id": "satellite-decimal",
   "metadata": {},
   "outputs": [
    {
     "name": "stdout",
     "output_type": "stream",
     "text": [
      "+----+---------+---+------+------+----------+-------------+\n",
      "|name|     city|age|smoker|height| birthdate|ageplusheight|\n",
      "+----+---------+---+------+------+----------+-------------+\n",
      "|John|  Seattle| 60|  true|   1.7|1960-01-01|         61.7|\n",
      "|Tony|Cupertino| 30| false|   1.8|1990-01-01|         31.8|\n",
      "|Mike| New York| 40|  true|  1.65|1980-01-01|        41.65|\n",
      "+----+---------+---+------+------+----------+-------------+\n",
      "\n"
     ]
    }
   ],
   "source": [
    "df.select(\"*\",(df.age+df.height).alias(\"ageplusheight\")).show()"
   ]
  },
  {
   "cell_type": "markdown",
   "id": "binary-czech",
   "metadata": {},
   "source": [
    "Method#3"
   ]
  },
  {
   "cell_type": "code",
   "execution_count": 87,
   "id": "framed-picking",
   "metadata": {},
   "outputs": [
    {
     "name": "stdout",
     "output_type": "stream",
     "text": [
      "+----+---------+---+------+------+----------+----+\n",
      "|name|     city|age|smoker|height| birthdate|male|\n",
      "+----+---------+---+------+------+----------+----+\n",
      "|John|  Seattle| 60|  true|   1.7|1960-01-01|true|\n",
      "|Tony|Cupertino| 30| false|   1.8|1990-01-01|true|\n",
      "|Mike| New York| 40|  true|  1.65|1980-01-01|true|\n",
      "+----+---------+---+------+------+----------+----+\n",
      "\n"
     ]
    }
   ],
   "source": [
    "from pyspark.sql.functions import lit\n",
    "df.select(\"*\",lit(\"true\").alias(\"male\")).show()"
   ]
  },
  {
   "cell_type": "markdown",
   "id": "burning-public",
   "metadata": {},
   "source": [
    "<a id='10'></a>"
   ]
  },
  {
   "cell_type": "markdown",
   "id": "hazardous-speaker",
   "metadata": {},
   "source": [
    "### 3d. How to delete columns?"
   ]
  },
  {
   "cell_type": "markdown",
   "id": "organizational-london",
   "metadata": {},
   "source": [
    "\n",
    "```{figure} img/chapter2/7.png\n",
    "---\n",
    "align: center\n",
    "---\n",
    "```"
   ]
  },
  {
   "cell_type": "markdown",
   "id": "constitutional-rough",
   "metadata": {},
   "source": [
    "<b>Input: Spark dataframe</b>"
   ]
  },
  {
   "cell_type": "code",
   "execution_count": 88,
   "id": "filled-order",
   "metadata": {},
   "outputs": [
    {
     "name": "stdout",
     "output_type": "stream",
     "text": [
      "+----+---------+---+------+------+----------+\n",
      "|name|     city|age|smoker|height| birthdate|\n",
      "+----+---------+---+------+------+----------+\n",
      "|John|  Seattle| 60|  true|   1.7|1960-01-01|\n",
      "|Tony|Cupertino| 30| false|   1.8|1990-01-01|\n",
      "|Mike| New York| 40|  true|  1.65|1980-01-01|\n",
      "+----+---------+---+------+------+----------+\n",
      "\n"
     ]
    }
   ],
   "source": [
    "df = spark.createDataFrame([('John', 'Seattle', 60, True, 1.7, '1960-01-01'), \n",
    "('Tony', 'Cupertino', 30, False, 1.8, '1990-01-01'), \n",
    "('Mike', 'New York', 40, True, 1.65, '1980-01-01')],['name', 'city', 'age', 'smoker','height', 'birthdate'])\n",
    "df.show()"
   ]
  },
  {
   "cell_type": "markdown",
   "id": "colonial-redhead",
   "metadata": {},
   "source": [
    "<b>Output: spark dataframe with one of the column deleted</b>"
   ]
  },
  {
   "cell_type": "markdown",
   "id": "sunset-consciousness",
   "metadata": {},
   "source": [
    "dropping a single column"
   ]
  },
  {
   "cell_type": "code",
   "execution_count": 89,
   "id": "organizational-quick",
   "metadata": {},
   "outputs": [
    {
     "name": "stdout",
     "output_type": "stream",
     "text": [
      "+----+---+------+------+----------+\n",
      "|name|age|smoker|height| birthdate|\n",
      "+----+---+------+------+----------+\n",
      "|John| 60|  true|   1.7|1960-01-01|\n",
      "|Tony| 30| false|   1.8|1990-01-01|\n",
      "|Mike| 40|  true|  1.65|1980-01-01|\n",
      "+----+---+------+------+----------+\n",
      "\n"
     ]
    }
   ],
   "source": [
    "df.drop('city').show()"
   ]
  },
  {
   "cell_type": "markdown",
   "id": "bronze-cleanup",
   "metadata": {},
   "source": [
    "dropping multiple columns"
   ]
  },
  {
   "cell_type": "code",
   "execution_count": 90,
   "id": "minute-policy",
   "metadata": {},
   "outputs": [
    {
     "name": "stdout",
     "output_type": "stream",
     "text": [
      "+----+---+------+------+\n",
      "|name|age|smoker|height|\n",
      "+----+---+------+------+\n",
      "|John| 60|  true|   1.7|\n",
      "|Tony| 30| false|   1.8|\n",
      "|Mike| 40|  true|  1.65|\n",
      "+----+---+------+------+\n",
      "\n"
     ]
    }
   ],
   "source": [
    "df.drop('city','birthdate').show()"
   ]
  },
  {
   "cell_type": "markdown",
   "id": "competent-climb",
   "metadata": {},
   "source": [
    "<a id='11'></a>"
   ]
  },
  {
   "cell_type": "markdown",
   "id": "confirmed-excuse",
   "metadata": {},
   "source": [
    "### 3e. How to change the data type of columns?"
   ]
  },
  {
   "cell_type": "markdown",
   "id": "ambient-three",
   "metadata": {},
   "source": [
    "\n",
    "```{figure} img/chapter2/8.png\n",
    "---\n",
    "align: center\n",
    "---\n",
    "```"
   ]
  },
  {
   "cell_type": "markdown",
   "id": "sweet-powder",
   "metadata": {},
   "source": [
    "<b>Input: Spark dataframe with column \"age\" of string type</b>"
   ]
  },
  {
   "cell_type": "code",
   "execution_count": 91,
   "id": "chicken-possession",
   "metadata": {},
   "outputs": [
    {
     "name": "stdout",
     "output_type": "stream",
     "text": [
      "+----+---------+---+------+------+----------+\n",
      "|name|     city|age|smoker|height| birthdate|\n",
      "+----+---------+---+------+------+----------+\n",
      "|John|  Seattle| 60|  true|   1.7|1960-01-01|\n",
      "|Tony|Cupertino| 30| false|   1.8|1990-01-01|\n",
      "|Mike| New York| 40|  true|  1.65|1980-01-01|\n",
      "+----+---------+---+------+------+----------+\n",
      "\n",
      "Data types:\n"
     ]
    },
    {
     "data": {
      "text/plain": [
       "[('name', 'string'),\n",
       " ('city', 'string'),\n",
       " ('age', 'string'),\n",
       " ('smoker', 'boolean'),\n",
       " ('height', 'double'),\n",
       " ('birthdate', 'string')]"
      ]
     },
     "execution_count": 91,
     "metadata": {},
     "output_type": "execute_result"
    }
   ],
   "source": [
    "df = spark.createDataFrame([('John', 'Seattle', \"60\", True, 1.7, '1960-01-01'), \n",
    "('Tony', 'Cupertino', \"30\", False, 1.8, '1990-01-01'), \n",
    "('Mike', 'New York', \"40\", True, 1.65, '1980-01-01')],['name', 'city', 'age', 'smoker','height', 'birthdate'])\n",
    "df.show()\n",
    "print(\"Data types:\")\n",
    "df.dtypes"
   ]
  },
  {
   "cell_type": "markdown",
   "id": "behavioral-hormone",
   "metadata": {},
   "source": [
    "<b>Output: spark dataframe with column \"age\" of integer data type</b>"
   ]
  },
  {
   "cell_type": "code",
   "execution_count": 92,
   "id": "hungry-forty",
   "metadata": {},
   "outputs": [
    {
     "name": "stdout",
     "output_type": "stream",
     "text": [
      "+----+---------+---+------+------+----------+-----------+\n",
      "|name|     city|age|smoker|height| birthdate|age_inttype|\n",
      "+----+---------+---+------+------+----------+-----------+\n",
      "|John|  Seattle| 60|  true|   1.7|1960-01-01|         60|\n",
      "|Tony|Cupertino| 30| false|   1.8|1990-01-01|         30|\n",
      "|Mike| New York| 40|  true|  1.65|1980-01-01|         40|\n",
      "+----+---------+---+------+------+----------+-----------+\n",
      "\n"
     ]
    },
    {
     "data": {
      "text/plain": [
       "[('name', 'string'),\n",
       " ('city', 'string'),\n",
       " ('age', 'string'),\n",
       " ('smoker', 'boolean'),\n",
       " ('height', 'double'),\n",
       " ('birthdate', 'string'),\n",
       " ('age_inttype', 'int')]"
      ]
     },
     "execution_count": 92,
     "metadata": {},
     "output_type": "execute_result"
    }
   ],
   "source": [
    "df.select(\"*\",df.age.cast(\"int\").alias(\"age_inttype\")).show()\n",
    "df.select(\"*\",df.age.cast(\"int\").alias(\"age_inttype\")).dtypes"
   ]
  },
  {
   "cell_type": "markdown",
   "id": "chicken-thesaurus",
   "metadata": {},
   "source": [
    "<a id='12'></a>"
   ]
  },
  {
   "cell_type": "markdown",
   "id": "coastal-great",
   "metadata": {},
   "source": [
    "### 3f. How to filter the data?"
   ]
  },
  {
   "cell_type": "markdown",
   "id": "joined-appeal",
   "metadata": {},
   "source": [
    "\n",
    "```{figure} img/chapter2/9.png\n",
    "---\n",
    "align: center\n",
    "---\n",
    "```"
   ]
  },
  {
   "cell_type": "markdown",
   "id": "special-system",
   "metadata": {},
   "source": [
    "<b>Input: Spark dataframe</b>"
   ]
  },
  {
   "cell_type": "code",
   "execution_count": 93,
   "id": "revolutionary-state",
   "metadata": {},
   "outputs": [
    {
     "name": "stdout",
     "output_type": "stream",
     "text": [
      "+----+---------+---+------+------+----------+\n",
      "|name|     city|age|smoker|height| birthdate|\n",
      "+----+---------+---+------+------+----------+\n",
      "|John|  Seattle| 60|  true|   1.7|1960-01-01|\n",
      "|Tony|Cupertino| 30| false|   1.8|1990-01-01|\n",
      "|Mike| New York| 40|  true|  1.65|1980-01-01|\n",
      "+----+---------+---+------+------+----------+\n",
      "\n",
      "Data types:\n"
     ]
    },
    {
     "data": {
      "text/plain": [
       "[('name', 'string'),\n",
       " ('city', 'string'),\n",
       " ('age', 'string'),\n",
       " ('smoker', 'boolean'),\n",
       " ('height', 'double'),\n",
       " ('birthdate', 'string')]"
      ]
     },
     "execution_count": 93,
     "metadata": {},
     "output_type": "execute_result"
    }
   ],
   "source": [
    "df = spark.createDataFrame([('John', 'Seattle', \"60\", True, 1.7, '1960-01-01'), \n",
    "('Tony', 'Cupertino', \"30\", False, 1.8, '1990-01-01'), \n",
    "('Mike', 'New York', \"40\", True, 1.65, '1980-01-01')],['name', 'city', 'age', 'smoker','height', 'birthdate'])\n",
    "df.show()\n",
    "print(\"Data types:\")\n",
    "df.dtypes"
   ]
  },
  {
   "cell_type": "markdown",
   "id": "reflected-particular",
   "metadata": {},
   "source": [
    "<b>Output: spark dataframe containing people whose age is more than 39</b>"
   ]
  },
  {
   "cell_type": "code",
   "execution_count": 94,
   "id": "neither-committee",
   "metadata": {},
   "outputs": [
    {
     "name": "stdout",
     "output_type": "stream",
     "text": [
      "+----+--------+---+------+------+----------+\n",
      "|name|    city|age|smoker|height| birthdate|\n",
      "+----+--------+---+------+------+----------+\n",
      "|John| Seattle| 60|  true|   1.7|1960-01-01|\n",
      "|Mike|New York| 40|  true|  1.65|1980-01-01|\n",
      "+----+--------+---+------+------+----------+\n",
      "\n"
     ]
    }
   ],
   "source": [
    "df.filter(\"age > 39\").show()"
   ]
  },
  {
   "cell_type": "code",
   "execution_count": 95,
   "id": "interim-mapping",
   "metadata": {},
   "outputs": [
    {
     "name": "stdout",
     "output_type": "stream",
     "text": [
      "+----+--------+---+------+------+----------+\n",
      "|name|    city|age|smoker|height| birthdate|\n",
      "+----+--------+---+------+------+----------+\n",
      "|John| Seattle| 60|  true|   1.7|1960-01-01|\n",
      "|Mike|New York| 40|  true|  1.65|1980-01-01|\n",
      "+----+--------+---+------+------+----------+\n",
      "\n"
     ]
    }
   ],
   "source": [
    "df.filter(df.age > 39).show()"
   ]
  }
 ],
 "metadata": {
  "kernelspec": {
   "display_name": "Python 3",
   "language": "python",
   "name": "python3"
  },
  "language_info": {
   "codemirror_mode": {
    "name": "ipython",
    "version": 3
   },
   "file_extension": ".py",
   "mimetype": "text/x-python",
   "name": "python",
   "nbconvert_exporter": "python",
   "pygments_lexer": "ipython3",
   "version": "3.8.5"
  }
 },
 "nbformat": 4,
 "nbformat_minor": 5
}
