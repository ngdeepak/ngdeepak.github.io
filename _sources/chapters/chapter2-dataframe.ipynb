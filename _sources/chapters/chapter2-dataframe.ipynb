{
 "cells": [
  {
   "cell_type": "markdown",
   "id": "actual-affect",
   "metadata": {},
   "source": [
    "```{figure} ../images/banner.png\n",
    "---\n",
    "align: center\n",
    "name: banner\n",
    "---\n",
    "```"
   ]
  },
  {
   "cell_type": "markdown",
   "id": "patent-registrar",
   "metadata": {},
   "source": [
    "# Chapter 2 : DataFrames"
   ]
  },
  {
   "cell_type": "markdown",
   "id": "ruled-peninsula",
   "metadata": {},
   "source": [
    "## Chapter Outline\n",
    "\n",
    "- [1. Distributed data & Spark Cluster](#1)\n",
    "- [2. Spark DataFrame ](#2)\n",
    "- [3. Creating Spark DataFrame](#3)\n",
    "    1. [test1](#4)\n",
    "    2. [test2](#5)\n",
    "- [4. Introduction4](#6)\n",
    "- [5. Introduction5](#7)\n",
    "- [6. Introduction6](#8)"
   ]
  },
  {
   "cell_type": "markdown",
   "id": "supported-warning",
   "metadata": {},
   "source": [
    "## Chapter Learning Objectives"
   ]
  },
  {
   "cell_type": "markdown",
   "id": "inappropriate-invite",
   "metadata": {},
   "source": [
    "- Create, describe and differentiate standard Python datatypes such as `int`, `float`, `string`, `list`, `dict`, `tuple`, etc.\n",
    "- Perform arithmetic operations like `+`, `-`, `*`, `**` on numeric values.\n",
    "- Perform basic string operations like `.lower()`, `.split()` to manipulate strings.\n",
    "- Compute boolean values using comparison operators operations (`==`, `!=`, `>`, etc.) and boolean operators (`and`, `or`, `not`).\n",
    "- Assign, index, slice and subset values to and from tuples, lists, strings and dictionaries.\n",
    "- Write a conditional statement with `if`, `elif` and `else`.\n",
    "- Identify code blocks by levels of indentation.\n",
    "- Explain the difference between mutable objects like a `list` and immutable objects like a `tuple`."
   ]
  },
  {
   "cell_type": "markdown",
   "id": "usual-mason",
   "metadata": {},
   "source": [
    "## 1. Distributed data & Spark Cluster\n",
    "<a id='1'></a>"
   ]
  },
  {
   "cell_type": "markdown",
   "id": "rural-conversation",
   "metadata": {},
   "source": [
    "### What is distributed data? \n",
    "\n",
    "To answer this question, let us first understand how a non-distributed data look like. Lets us assume that a table consisting of just 3 records is stored on mySQL RDBMS in Linux.\n",
    "\n",
    "```{figure} img/chapter2/non-distributed-data.png\n",
    "---\n",
    "align: center\n",
    "---\n",
    "```"
   ]
  },
  {
   "cell_type": "markdown",
   "id": "demonstrated-child",
   "metadata": {},
   "source": []
  },
  {
   "cell_type": "code",
   "execution_count": null,
   "id": "compound-religion",
   "metadata": {},
   "outputs": [],
   "source": []
  },
  {
   "cell_type": "markdown",
   "id": "remarkable-indication",
   "metadata": {},
   "source": [
    "## 2. Spark DataFrame\n",
    "<a id='2'></a>"
   ]
  },
  {
   "cell_type": "markdown",
   "id": "minus-lucas",
   "metadata": {},
   "source": [
    "## 3. Creating Spark DataFrame\n",
    "<a id='3'></a>"
   ]
  },
  {
   "cell_type": "markdown",
   "id": "reasonable-ordering",
   "metadata": {},
   "source": [
    "## .  &emsp; 3a. test1\n",
    "<a id='4'></a>"
   ]
  },
  {
   "cell_type": "code",
   "execution_count": null,
   "id": "italian-hebrew",
   "metadata": {},
   "outputs": [],
   "source": [
    "print(\"hello\")"
   ]
  },
  {
   "cell_type": "code",
   "execution_count": null,
   "id": "activated-sitting",
   "metadata": {},
   "outputs": [],
   "source": [
    "print(\"hello\")"
   ]
  },
  {
   "cell_type": "code",
   "execution_count": null,
   "id": "extended-disease",
   "metadata": {},
   "outputs": [],
   "source": [
    "print(\"hello\")"
   ]
  },
  {
   "cell_type": "code",
   "execution_count": null,
   "id": "opening-parts",
   "metadata": {},
   "outputs": [],
   "source": [
    "print(\"hello\")"
   ]
  },
  {
   "cell_type": "code",
   "execution_count": null,
   "id": "acquired-vertex",
   "metadata": {},
   "outputs": [],
   "source": [
    "print(\"hello\")"
   ]
  },
  {
   "cell_type": "code",
   "execution_count": null,
   "id": "pleasant-virtue",
   "metadata": {},
   "outputs": [],
   "source": [
    "print(\"hello\")"
   ]
  },
  {
   "cell_type": "code",
   "execution_count": null,
   "id": "amazing-handle",
   "metadata": {},
   "outputs": [],
   "source": [
    "print(\"hello\")"
   ]
  },
  {
   "cell_type": "markdown",
   "id": "tough-adaptation",
   "metadata": {},
   "source": [
    "##  &emsp;  5. &emsp; &emsp; test2\n",
    "<a id='5'></a>"
   ]
  },
  {
   "cell_type": "code",
   "execution_count": null,
   "id": "finished-gabriel",
   "metadata": {},
   "outputs": [],
   "source": [
    "print(\"hello\")"
   ]
  },
  {
   "cell_type": "code",
   "execution_count": null,
   "id": "economic-exhibit",
   "metadata": {},
   "outputs": [],
   "source": [
    "print(\"hello\")"
   ]
  },
  {
   "cell_type": "code",
   "execution_count": null,
   "id": "freelance-engineer",
   "metadata": {},
   "outputs": [],
   "source": [
    "print(\"hello\")"
   ]
  },
  {
   "cell_type": "code",
   "execution_count": null,
   "id": "dated-connecticut",
   "metadata": {},
   "outputs": [],
   "source": [
    "print(\"hello\")"
   ]
  },
  {
   "cell_type": "code",
   "execution_count": null,
   "id": "inner-brazil",
   "metadata": {},
   "outputs": [],
   "source": [
    "print(\"hello\")"
   ]
  },
  {
   "cell_type": "markdown",
   "id": "persistent-electric",
   "metadata": {},
   "source": [
    "## 6. Introduction6\n",
    "<a id='6'></a>"
   ]
  },
  {
   "cell_type": "markdown",
   "id": "sharp-teaching",
   "metadata": {},
   "source": [
    "## 7. Introduction6\n",
    "<a id='7'></a>"
   ]
  },
  {
   "cell_type": "markdown",
   "id": "checked-albert",
   "metadata": {},
   "source": [
    "## 8. Introduction6\n",
    "<a id='8'></a>"
   ]
  }
 ],
 "metadata": {
  "kernelspec": {
   "display_name": "Python 3",
   "language": "python",
   "name": "python3"
  },
  "language_info": {
   "codemirror_mode": {
    "name": "ipython",
    "version": 3
   },
   "file_extension": ".py",
   "mimetype": "text/x-python",
   "name": "python",
   "nbconvert_exporter": "python",
   "pygments_lexer": "ipython3",
   "version": "3.8.5"
  }
 },
 "nbformat": 4,
 "nbformat_minor": 5
}
