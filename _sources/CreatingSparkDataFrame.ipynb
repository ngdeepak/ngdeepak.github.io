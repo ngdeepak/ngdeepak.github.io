{
 "cells": [
  {
   "cell_type": "markdown",
   "id": "hungry-empire",
   "metadata": {},
   "source": [
    "# Creating Spark Data Frame\n",
    "\n",
    "## What is a Spark Data frame?\n",
    "\n",
    "Spark Data Frame is a distributed collection of data organized into named columns. It can be constructed from a wide array of sources such as: structured data files, tables in Hive, external databases, or existing RDD, Lists, Pandas data frame, json files, CSV files, parquet files etc\n",
    "\n",
    "```{figure} /images/dataframe.png\n",
    "---\n",
    "width: 700px\n",
    "height: 400px\n",
    "align: center\n",
    "---\n",
    "Here is my figure caption!\n",
    "```"
   ]
  }
 ],
 "metadata": {
  "kernelspec": {
   "display_name": "Python 3",
   "language": "python",
   "name": "python3"
  },
  "language_info": {
   "codemirror_mode": {
    "name": "ipython",
    "version": 3
   },
   "file_extension": ".py",
   "mimetype": "text/x-python",
   "name": "python",
   "nbconvert_exporter": "python",
   "pygments_lexer": "ipython3",
   "version": "3.8.5"
  }
 },
 "nbformat": 4,
 "nbformat_minor": 5
}
